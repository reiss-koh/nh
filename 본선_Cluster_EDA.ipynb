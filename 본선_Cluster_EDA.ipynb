{
 "cells": [
  {
   "cell_type": "code",
   "execution_count": 4,
   "id": "26bfb6a4-e777-44c2-b3f1-f0c3cc11e5dc",
   "metadata": {},
   "outputs": [
    {
     "name": "stdout",
     "output_type": "stream",
     "text": []
    },
    {
     "name": "stdout",
     "output_type": "stream",
     "text": []
    },
    {
     "name": "stdout",
     "output_type": "stream",
     "text": []
    },
    {
     "name": "stdout",
     "output_type": "stream",
     "text": []
    },
    {
     "name": "stdout",
     "output_type": "stream",
     "text": []
    },
    {
     "name": "stdout",
     "output_type": "stream",
     "text": []
    },
    {
     "name": "stdout",
     "output_type": "stream",
     "text": []
    },
    {
     "name": "stdout",
     "output_type": "stream",
     "text": []
    },
    {
     "name": "stdout",
     "output_type": "stream",
     "text": []
    },
    {
     "name": "stdout",
     "output_type": "stream",
     "text": []
    },
    {
     "name": "stdout",
     "output_type": "stream",
     "text": []
    },
    {
     "name": "stdout",
     "output_type": "stream",
     "text": []
    },
    {
     "name": "stdout",
     "output_type": "stream",
     "text": []
    },
    {
     "name": "stdout",
     "output_type": "stream",
     "text": []
    },
    {
     "name": "stdout",
     "output_type": "stream",
     "text": []
    },
    {
     "name": "stdout",
     "output_type": "stream",
     "text": []
    },
    {
     "name": "stdout",
     "output_type": "stream",
     "text": []
    },
    {
     "name": "stdout",
     "output_type": "stream",
     "text": []
    },
    {
     "name": "stdout",
     "output_type": "stream",
     "text": []
    },
    {
     "name": "stdout",
     "output_type": "stream",
     "text": []
    },
    {
     "name": "stdout",
     "output_type": "stream",
     "text": []
    },
    {
     "name": "stdout",
     "output_type": "stream",
     "text": []
    },
    {
     "name": "stdout",
     "output_type": "stream",
     "text": []
    },
    {
     "name": "stdout",
     "output_type": "stream",
     "text": []
    },
    {
     "name": "stdout",
     "output_type": "stream",
     "text": []
    },
    {
     "name": "stdout",
     "output_type": "stream",
     "text": []
    },
    {
     "name": "stdout",
     "output_type": "stream",
     "text": []
    },
    {
     "name": "stdout",
     "output_type": "stream",
     "text": []
    },
    {
     "name": "stdout",
     "output_type": "stream",
     "text": []
    },
    {
     "name": "stdout",
     "output_type": "stream",
     "text": []
    },
    {
     "name": "stdout",
     "output_type": "stream",
     "text": []
    },
    {
     "name": "stdout",
     "output_type": "stream",
     "text": []
    },
    {
     "name": "stdout",
     "output_type": "stream",
     "text": []
    },
    {
     "name": "stdout",
     "output_type": "stream",
     "text": []
    },
    {
     "name": "stdout",
     "output_type": "stream",
     "text": []
    },
    {
     "name": "stdout",
     "output_type": "stream",
     "text": []
    },
    {
     "name": "stdout",
     "output_type": "stream",
     "text": []
    },
    {
     "name": "stdout",
     "output_type": "stream",
     "text": []
    },
    {
     "name": "stdout",
     "output_type": "stream",
     "text": []
    },
    {
     "name": "stdout",
     "output_type": "stream",
     "text": []
    },
    {
     "name": "stdout",
     "output_type": "stream",
     "text": []
    },
    {
     "name": "stdout",
     "output_type": "stream",
     "text": []
    },
    {
     "name": "stdout",
     "output_type": "stream",
     "text": []
    },
    {
     "name": "stdout",
     "output_type": "stream",
     "text": []
    },
    {
     "name": "stdout",
     "output_type": "stream",
     "text": []
    },
    {
     "name": "stdout",
     "output_type": "stream",
     "text": []
    },
    {
     "name": "stdout",
     "output_type": "stream",
     "text": []
    },
    {
     "name": "stdout",
     "output_type": "stream",
     "text": []
    },
    {
     "name": "stdout",
     "output_type": "stream",
     "text": []
    },
    {
     "name": "stdout",
     "output_type": "stream",
     "text": []
    },
    {
     "name": "stdout",
     "output_type": "stream",
     "text": []
    },
    {
     "name": "stdout",
     "output_type": "stream",
     "text": []
    },
    {
     "name": "stdout",
     "output_type": "stream",
     "text": []
    },
    {
     "name": "stdout",
     "output_type": "stream",
     "text": []
    },
    {
     "name": "stdout",
     "output_type": "stream",
     "text": []
    },
    {
     "name": "stdout",
     "output_type": "stream",
     "text": []
    },
    {
     "name": "stdout",
     "output_type": "stream",
     "text": []
    },
    {
     "name": "stdout",
     "output_type": "stream",
     "text": []
    },
    {
     "name": "stdout",
     "output_type": "stream",
     "text": []
    },
    {
     "name": "stdout",
     "output_type": "stream",
     "text": []
    },
    {
     "name": "stdout",
     "output_type": "stream",
     "text": []
    },
    {
     "name": "stdout",
     "output_type": "stream",
     "text": []
    },
    {
     "name": "stdout",
     "output_type": "stream",
     "text": []
    },
    {
     "name": "stdout",
     "output_type": "stream",
     "text": []
    },
    {
     "name": "stdout",
     "output_type": "stream",
     "text": [
      "Requirement already satisfied: shap in /opt/conda/lib/python3.7/site-packages (0.41.0)\n",
      "Requirement already satisfied: numba in /opt/conda/lib/python3.7/site-packages (from shap) (0.53.1)\n",
      "Requirement already satisfied: scikit-learn in /opt/conda/lib/python3.7/site-packages (from shap) (1.0.2)\n",
      "Requirement already satisfied: numpy in /opt/conda/lib/python3.7/site-packages (from shap) (1.21.6)\n",
      "Requirement already satisfied: pandas in /opt/conda/lib/python3.7/site-packages (from shap) (1.3.5)\n",
      "Requirement already satisfied: cloudpickle in /opt/conda/lib/python3.7/site-packages (from shap) (2.1.0)\n",
      "Requirement already satisfied: slicer==0.0.7 in /opt/conda/lib/python3.7/site-packages (from shap) (0.0.7)\n",
      "Requirement already satisfied: tqdm>4.25.0 in /opt/conda/lib/python3.7/site-packages (from shap) (4.64.0)\n",
      "Requirement already satisfied: packaging>20.9 in /opt/conda/lib/python3.7/site-packages (from shap) (21.3)\n",
      "Requirement already satisfied: scipy in /opt/conda/lib/python3.7/site-packages (from shap) (1.7.3)\n",
      "Requirement already satisfied: pyparsing!=3.0.5,>=2.0.2 in /opt/conda/lib/python3.7/site-packages (from packaging>20.9->shap) (3.0.9)\n",
      "Requirement already satisfied: llvmlite<0.37,>=0.36.0rc1 in /opt/conda/lib/python3.7/site-packages (from numba->shap) (0.36.0)\n",
      "Requirement already satisfied: setuptools in /opt/conda/lib/python3.7/site-packages (from numba->shap) (59.8.0)\n",
      "Requirement already satisfied: pytz>=2017.3 in /opt/conda/lib/python3.7/site-packages (from pandas->shap) (2022.1)\n",
      "Requirement already satisfied: python-dateutil>=2.7.3 in /opt/conda/lib/python3.7/site-packages (from pandas->shap) (2.8.2)\n",
      "Requirement already satisfied: joblib>=0.11 in /opt/conda/lib/python3.7/site-packages (from scikit-learn->shap) (1.1.0)\n",
      "Requirement already satisfied: threadpoolctl>=2.0.0 in /opt/conda/lib/python3.7/site-packages (from scikit-learn->shap) (3.1.0)\n",
      "Requirement already satisfied: six>=1.5 in /opt/conda/lib/python3.7/site-packages (from python-dateutil>=2.7.3->pandas->shap) (1.16.0)\n"
     ]
    }
   ],
   "source": [
    "!pip install shap"
   ]
  },
  {
   "cell_type": "code",
   "execution_count": 1,
   "id": "5f3563f4-ebab-43b7-bc53-f27fb051370a",
   "metadata": {},
   "outputs": [],
   "source": [
    "import pandas as pd\n",
    "import numpy as np\n",
    "from numpy import nan\n",
    "from scipy import stats\n",
    "from datetime import date, datetime\n",
    "import investpy\n",
    "from pandas_datareader import data as pdr\n",
    "from pandas_profiling import ProfileReport\n",
    "\n",
    "import os\n",
    "import csv\n",
    "import sys\n",
    "import torch\n",
    "import torch.nn as nn\n",
    "import time\n",
    "import random\n",
    "import shap\n",
    "import matplotlib.pyplot as plt\n",
    "%matplotlib inline\n",
    "\n",
    "from sklearn.datasets import make_blobs\n",
    "from sklearn.cluster import KMeans\n",
    "from sklearn.metrics import silhouette_score\n",
    "from sklearn.cluster import MiniBatchKMeans\n",
    "from scipy.cluster.vq import vq\n",
    "from sklearn.manifold import TSNE\n",
    "from sklearn.preprocessing import MinMaxScaler\n",
    "from sklearn.ensemble import RandomForestClassifier"
   ]
  },
  {
   "cell_type": "code",
   "execution_count": 2,
   "id": "9c7bb3d0-262a-45f8-bfee-517ed03cfd3e",
   "metadata": {},
   "outputs": [],
   "source": [
    "device = torch.device(\"cpu\")\n",
    "\n",
    "class Autoencoder(nn.Module):\n",
    "    def __init__(self, input_dim, output_dim):\n",
    "        super(Autoencoder, self).__init__()\n",
    "        seed = 123\n",
    "        torch.manual_seed(seed)\n",
    "        torch.cuda.manual_seed(seed)\n",
    "        torch.cuda.manual_seed_all(seed)\n",
    "        np.random.seed(seed)\n",
    "        random.seed(seed)\n",
    "        torch.backends.cudnn.benchmark = False\n",
    "        torch.backends.cudnn.deterministic = True\n",
    "        \n",
    "        self.encoder = nn.Sequential(\n",
    "            nn.Linear(input_dim, 128),\n",
    "            nn.ReLU(),\n",
    "            nn.Linear(128, 64),\n",
    "            nn.ReLU(),\n",
    "            nn.Linear(64, 32),\n",
    "            nn.ReLU(),\n",
    "            nn.Linear(32, 16),\n",
    "        )\n",
    "        self.decoder = nn.Sequential(\n",
    "            nn.Linear(16, 32),\n",
    "            nn.ReLU(),\n",
    "            nn.Linear(32, 64),\n",
    "            nn.ReLU(),\n",
    "            nn.Linear(64, 128),\n",
    "            nn.ReLU(),\n",
    "            nn.Linear(128, output_dim),\n",
    "            nn.Sigmoid(),\n",
    "        )\n",
    "\n",
    "    def forward(self, x):\n",
    "        encoded = self.encoder(x)\n",
    "        decoded = self.decoder(encoded)\n",
    "        return decoded\n",
    "\n",
    "\n",
    "class ConvAutoEncoder(nn.Module):\n",
    "    def __init__(self, input_dim, output_dim):\n",
    "        super(ConvAutoEncoder, self).__init__()\n",
    "        seed = 123\n",
    "        torch.manual_seed(seed)\n",
    "        torch.cuda.manual_seed(seed)\n",
    "        torch.cuda.manual_seed_all(seed)\n",
    "        np.random.seed(seed)\n",
    "        random.seed(seed)\n",
    "        torch.backends.cudnn.benchmark = False\n",
    "        torch.backends.cudnn.deterministic = True\n",
    "\n",
    "        # Encoder\n",
    "        self.cnn_layer1 = nn.Sequential(\n",
    "            nn.Conv1d(input_dim, 16, kernel_size=3, stride=1, padding=1),\n",
    "            nn.ReLU(),\n",
    "            nn.MaxPool1d(2, 2))\n",
    "\n",
    "        self.cnn_layer2 = nn.Sequential(\n",
    "            nn.Conv1d(16, 32, kernel_size=3, stride=1, padding=1),\n",
    "            nn.ReLU(),\n",
    "            nn.MaxPool1d(2, 2))\n",
    "\n",
    "        # Decoder\n",
    "        self.tran_cnn_layer1 = nn.Sequential(\n",
    "            nn.ConvTranspose1d(32, 16, kernel_size=2, stride=2, padding=0),\n",
    "            nn.ReLU())\n",
    "\n",
    "        self.tran_cnn_layer2 = nn.Sequential(\n",
    "            nn.ConvTranspose1d(16, output_dim, kernel_size=2, stride=2, padding=0),\n",
    "            nn.Sigmoid())\n",
    "\n",
    "    def forward(self, x):\n",
    "        # print(x.shape)\n",
    "        output = self.cnn_layer1(x)\n",
    "        # print(output.shape)\n",
    "        output = self.cnn_layer2(output)\n",
    "        # print(output.shape)\n",
    "        output = self.tran_cnn_layer1(output)\n",
    "        # print(output.shape)\n",
    "        output = self.tran_cnn_layer2(output)\n",
    "        # print(output.shape)\n",
    "\n",
    "        return output\n",
    "\n",
    "\n",
    "class k_clustering():\n",
    "    def __init__(self, dataframe, dim):\n",
    "        self.df = dataframe\n",
    "        self.df_values = self.df.values\n",
    "        self.data = torch.tensor(self.df_values, dtype=torch.float32)\n",
    "        self.dim = dim\n",
    "\n",
    "    def preprocess_with_autoencoder(self, t_sne_dim, decoder_dim=None):\n",
    "        # autoencoder input dimension\n",
    "        input_dim = self.data.size(1)\n",
    "\n",
    "        # output dimension 설정\n",
    "        if decoder_dim != None:\n",
    "            output_dim = decoder_dim\n",
    "        else:\n",
    "            output_dim = self.data.size(1)\n",
    "\n",
    "        # 모델 통과\n",
    "        model = Autoencoder(input_dim, output_dim).to(device)\n",
    "        output = model(self.data).to(device)\n",
    "        print(\"autoencoder output shape:\", output.shape)\n",
    "\n",
    "        # tensor numpy로 변환\n",
    "        output = output.detach().numpy()\n",
    "        # print(output)\n",
    "\n",
    "        # T-SNE로 차원 축소\n",
    "        t_sne_model = TSNE(t_sne_dim)\n",
    "        t_sne_output = t_sne_model.fit_transform(output)\n",
    "        print(\"T-SNE output shape:\", t_sne_output.shape)\n",
    "\n",
    "        return t_sne_output\n",
    "\n",
    "    def preprocess_with_conv_autoencoder(self, t_sne_dim, decoder_dim=None):\n",
    "        # convolutional layer input을 위한 transpose\n",
    "        transpose_input = torch.transpose(self.data, 1, 0)\n",
    "        input_dim = transpose_input.size(0)\n",
    "\n",
    "        # 추후 최적화 때 실험할 output dimension 설정\n",
    "        if decoder_dim != None:\n",
    "            output_dim = decoder_dim\n",
    "        else:\n",
    "            output_dim = transpose_input.size(0)\n",
    "\n",
    "        # 모델 통과\n",
    "        model = ConvAutoEncoder(input_dim, output_dim).to(device)\n",
    "        decoded = model(transpose_input).to(device)\n",
    "        transpose_output = torch.transpose(decoded, 1, 0)\n",
    "        print(\"Conv Autoencoder output shape:\", transpose_output.shape)\n",
    "\n",
    "        # Numpy 변환\n",
    "        transpose_output = transpose_output.detach().numpy()\n",
    "\n",
    "        # output dimension for T-SNE\n",
    "        t_sne_model = TSNE(t_sne_dim)\n",
    "        t_sne_output = t_sne_model.fit_transform(transpose_output)\n",
    "        print(\"T-SNE output shape:\", t_sne_output.shape)\n",
    "\n",
    "        return t_sne_output\n",
    "\n",
    "    def k_means_clustering(self, num_cluster, autoencoder_type):\n",
    "        clustering_input = None\n",
    "        if str(autoencoder_type) == (\"linear\" or \"Linear\"):\n",
    "            clustering_input = self.preprocess_with_autoencoder(2)\n",
    "        elif str(autoencoder_type) == (\"conv\" or \"Conv\"):\n",
    "            clustering_input = self.preprocess_with_conv_autoencoder(2)\n",
    "        else:\n",
    "            assert autoencoder_type == \"linear\" or autoencoder_type == \"conv\"\n",
    "\n",
    "        print(\"Clustering input dimension:\", clustering_input.shape)\n",
    "\n",
    "        k_means = KMeans(init=\"k-means++\", n_clusters=num_cluster, random_state = 1)\n",
    "        k_means.fit(clustering_input)\n",
    "        cluster = k_means.predict(clustering_input)\n",
    "        labels = k_means.labels_\n",
    "        centers = k_means.cluster_centers_\n",
    "\n",
    "        # Medoid 찾기\n",
    "        closest, distances = vq(centers, clustering_input)\n",
    "        print(\"Closest Medoid Indexs are\", closest)\n",
    "\n",
    "        # 2차원인 경우 그래프 그리기\n",
    "        if clustering_input.shape[1] == 2:\n",
    "            fig = plt.figure(figsize=(6, 4))\n",
    "            colors = plt.cm.Spectral(np.linspace(0, 1, len(set(labels))))\n",
    "            graph = fig.add_subplot(1, 1, 1)\n",
    "\n",
    "            for k, col, close_idx in zip(range(6), colors, closest):\n",
    "                my_members = (labels == k)\n",
    "                if my_members[close_idx] == True:\n",
    "                    graph.plot(clustering_input[close_idx, 0], clustering_input[close_idx, 1], markerfacecolor=col,\n",
    "                               marker='h', markeredgecolor='b', markersize=20)\n",
    "                graph.plot(clustering_input[my_members, 0], clustering_input[my_members, 1], linestyle='None', mec='k',\n",
    "                           mew=0.5, markerfacecolor=col, marker='o', markersize=5)\n",
    "                # graph.plot(input_data[close_center, 0], input_data[close_center, 1], 'o', markerfacecolor=col, markeredgecolor='k', markersize=20)\n",
    "\n",
    "            graph.set_title('K-Means')\n",
    "            graph.set_xticks(())\n",
    "            graph.set_yticks(())\n",
    "            plt.show()\n",
    "\n",
    "        return labels, closest, k_means\n",
    "\n",
    "    # 실루엣 지수로 최적화\n",
    "    def optimize_clustering(self, autoencoder_type):\n",
    "        clustering_input = None\n",
    "        if str(autoencoder_type) == (\"linear\" or \"Linear\"):\n",
    "            clustering_input = self.preprocess_with_autoencoder(2)\n",
    "        elif str(autoencoder_type) == (\"conv\" or \"Conv\"):\n",
    "            clustering_input = self.preprocess_with_conv_autoencoder(2)\n",
    "        else:\n",
    "            assert autoencoder_type == \"linear\" or autoencoder_type == \"conv\"\n",
    "\n",
    "        print(\"Clustering input dimension:\", clustering_input.shape)\n",
    "\n",
    "        best_num_cluster = 0\n",
    "        best_silhouette_score = -1\n",
    "        k_range = range(4, 13)\n",
    "\n",
    "        inertia_list = []\n",
    "\n",
    "        for k in k_range:\n",
    "            # k_means = MiniBatchKMeans(init=\"k-means++\", n_clusters=k, n_init=5, random_state = 1, batch_size=5)\n",
    "            k_means = KMeans(init=\"k-means++\", n_clusters=k, random_state=1)\n",
    "            k_means.fit(clustering_input)\n",
    "            cluster = k_means.predict(clustering_input)\n",
    "\n",
    "            # silhouette score calculation\n",
    "            score = silhouette_score(clustering_input, cluster)\n",
    "            print('k:', k, \"silhouette score:\", score)\n",
    "\n",
    "            inertia = k_means.inertia_\n",
    "            inertia_list.append(inertia)\n",
    "\n",
    "            if score > best_silhouette_score:\n",
    "                best_num_cluster = k\n",
    "                best_silhouette_score = score\n",
    "\n",
    "        print(\"Best number of clusters:\", best_num_cluster, \"Score:\", best_silhouette_score)\n",
    "\n",
    "        return best_num_cluster"
   ]
  },
  {
   "cell_type": "markdown",
   "id": "fe0af9ea-4b7d-45a7-abfc-c7e124e735b6",
   "metadata": {},
   "source": [
    "## Optimal Clustering Result"
   ]
  },
  {
   "cell_type": "code",
   "execution_count": 3,
   "id": "9c16a2fb-e4ff-4a82-9e08-8951faffa88a",
   "metadata": {},
   "outputs": [
    {
     "name": "stdout",
     "output_type": "stream",
     "text": [
      "      SEX_F  SEX_M  age_group  income_group  account_age  LIFESTAGE_1  \\\n",
      "0       0.0    1.0      0.375           0.0     0.502386          0.0   \n",
      "1       0.0    1.0      0.750           0.0     0.368836          0.0   \n",
      "2       0.0    1.0      0.625           0.0     0.196787          0.0   \n",
      "3       0.0    1.0      0.625           0.0     0.136573          0.0   \n",
      "4       0.0    1.0      0.500           0.0     0.022749          0.0   \n",
      "...     ...    ...        ...           ...          ...          ...   \n",
      "7346    0.0    1.0      0.125           0.0     0.046532          0.0   \n",
      "7347    1.0    0.0      0.625           0.0     0.072701          0.0   \n",
      "7348    0.0    1.0      0.125           0.0     0.052100          0.0   \n",
      "7349    1.0    0.0      0.250           0.0     0.043748          0.0   \n",
      "7350    1.0    0.0      0.250           0.0     0.029669          0.0   \n",
      "\n",
      "      LIFESTAGE_2  LIFESTAGE_3  LIFESTAGE_4  LIFESTAGE_5  ...  \\\n",
      "0             0.0          1.0          0.0          0.0  ...   \n",
      "1             0.0          0.0          0.0          1.0  ...   \n",
      "2             0.0          0.0          0.0          0.0  ...   \n",
      "3             0.0          0.0          0.0          1.0  ...   \n",
      "4             0.0          0.0          0.0          1.0  ...   \n",
      "...           ...          ...          ...          ...  ...   \n",
      "7346          1.0          0.0          0.0          0.0  ...   \n",
      "7347          0.0          0.0          0.0          0.0  ...   \n",
      "7348          1.0          0.0          0.0          0.0  ...   \n",
      "7349          0.0          0.0          1.0          0.0  ...   \n",
      "7350          0.0          0.0          1.0          0.0  ...   \n",
      "\n",
      "      peak_asset_value  value_weighted_volatility  leverage  TOTAL_DURATION  \\\n",
      "0             0.002630                   0.135739       0.0        0.001133   \n",
      "1             0.003361                   0.205906       0.0        0.059999   \n",
      "2             0.128989                   0.177191       0.0        0.002291   \n",
      "3             0.000417                   0.084866       0.0        0.002343   \n",
      "4             0.000371                   0.082947       0.0        0.000010   \n",
      "...                ...                        ...       ...             ...   \n",
      "7346          0.016238                   0.090362       0.0        0.001804   \n",
      "7347          0.041454                   0.158255       0.0        0.021074   \n",
      "7348          0.008808                   0.141116       0.0        0.000088   \n",
      "7349          0.005795                   0.109931       0.0        0.003622   \n",
      "7350          0.007498                   0.229690       0.0        0.000876   \n",
      "\n",
      "      TOTAL_VIEW_CNT  TOTAL_FOREIGN  TOTAL_ADV  TOTAL_AI  TOTAL_NTP  TOTAL_MAT  \n",
      "0           0.000888       0.000000        0.0       0.0   0.000000   0.000379  \n",
      "1           0.018319       0.000000        0.0       0.0   0.000000   0.006757  \n",
      "2           0.000533       0.000001        0.0       0.0   0.000000   0.000016  \n",
      "3           0.005041       0.000000        0.0       0.0   0.000000   0.000006  \n",
      "4           0.000000       0.000000        0.0       0.0   0.000000   0.000000  \n",
      "...              ...            ...        ...       ...        ...        ...  \n",
      "7346        0.008130       0.001076        0.0       0.0   0.000000   0.000002  \n",
      "7347        0.028828       0.000010        0.0       0.0   0.000064   0.000770  \n",
      "7348        0.000462       0.000000        0.0       0.0   0.000000   0.000000  \n",
      "7349        0.005183       0.000000        0.0       0.0   0.000000   0.000007  \n",
      "7350        0.002308       0.000067        0.0       0.0   0.000000   0.000009  \n",
      "\n",
      "[7351 rows x 54 columns]\n"
     ]
    }
   ],
   "source": [
    "df = pd.read_csv('/home/work/data/본선_data_final.csv')\n",
    "df = df.iloc[:, 3:]\n",
    "print(df)"
   ]
  },
  {
   "cell_type": "code",
   "execution_count": 4,
   "id": "ef789d58-adf4-4385-83ba-9a656b0e776a",
   "metadata": {},
   "outputs": [
    {
     "name": "stdout",
     "output_type": "stream",
     "text": [
      "Conv Autoencoder output shape: torch.Size([7348, 54])\n"
     ]
    },
    {
     "name": "stderr",
     "output_type": "stream",
     "text": [
      "The default initialization in TSNE will change from 'random' to 'pca' in 1.2.\n",
      "The default learning rate in TSNE will change from 200.0 to 'auto' in 1.2.\n"
     ]
    },
    {
     "name": "stdout",
     "output_type": "stream",
     "text": [
      "T-SNE output shape: (7348, 2)\n",
      "Clustering input dimension: (7348, 2)\n",
      "Closest Medoid Indexs are [4313  874 5047 1052]\n"
     ]
    },
    {
     "data": {
      "image/png": "[encoded data removed]",
      "text/plain": [
       "<Figure size 432x288 with 1 Axes>"
      ]
     },
     "metadata": {},
     "output_type": "display_data"
    },
    {
     "name": "stdout",
     "output_type": "stream",
     "text": [
      "--- 25.900214195251465 seconds ---\n"
     ]
    }
   ],
   "source": [
    "start_time = time.time()\n",
    "\n",
    "df = pd.read_csv('/home/work/data/본선_data_final.csv')\n",
    "df = df.iloc[:, 3:]\n",
    "model = k_clustering(df, 2)\n",
    "optimal_num_cluster = 4\n",
    "labels, medoids, k_means = model.k_means_clustering(optimal_num_cluster, \"conv\")\n",
    "\n",
    "print(\"--- %s seconds ---\" % (time.time() - start_time))"
   ]
  },
  {
   "cell_type": "code",
   "execution_count": 5,
   "id": "366088ea-ed38-4a08-85bf-b738c66947e4",
   "metadata": {},
   "outputs": [
    {
     "name": "stderr",
     "output_type": "stream",
     "text": [
      "\n",
      "A value is trying to be set on a copy of a slice from a DataFrame.\n",
      "Try using .loc[row_indexer,col_indexer] = value instead\n",
      "\n",
      "See the caveats in the documentation: https://pandas.pydata.org/pandas-docs/stable/user_guide/indexing.html#returning-a-view-versus-a-copy\n"
     ]
    }
   ],
   "source": [
    "df = df.iloc[:-3]\n",
    "df['Label'] = labels\n",
    "account = pd.read_csv('/home/work/data/본선_data_final.csv')\n",
    "account = account.iloc[:,:1]\n",
    "df.insert(loc=0, column='account_number', value=account[account.columns[0]])\n",
    "df.to_csv('/home/work/data/본선_data_final_after_labeling.csv')"
   ]
  },
  {
   "cell_type": "code",
   "execution_count": null,
   "id": "aaddc964-1630-4e51-9868-de64a21e2a87",
   "metadata": {},
   "outputs": [],
   "source": [
    "cluster_df = pd.read_csv('/home/work/data/본선_data_final_after_labeling.csv')\n",
    "cluster_df = cluster_df.iloc[:, 2:-1]\n",
    "print(cluster_df)"
   ]
  },
  {
   "cell_type": "markdown",
   "id": "93d77977-ceb1-4453-b3a1-179aa9714158",
   "metadata": {},
   "source": [
    "## SHAP Plot"
   ]
  },
  {
   "cell_type": "code",
   "execution_count": null,
   "id": "51cd5b82-c664-4a1d-b43f-0f105a14bea4",
   "metadata": {},
   "outputs": [
    {
     "name": "stdout",
     "output_type": "stream",
     "text": [
      "classifier done\n",
      "Explainer defined\n"
     ]
    }
   ],
   "source": [
    "start_time = time.time()\n",
    "cluster_df = pd.read_csv('/home/work/data/본선_data_final_after_labeling.csv')\n",
    "cluster_df = cluster_df.iloc[:, 2:-1]\n",
    "\n",
    "clf=RandomForestClassifier()\n",
    "clf.fit(cluster_df,labels)\n",
    "print(\"classifier done\")\n",
    "explainer= shap.TreeExplainer(clf)\n",
    "print(\"Explainer defined\")\n",
    "\n",
    "shap_values = explainer.shap_values(cluster_df)\n",
    "print(shap_values)\n",
    "print(\"--- %s seconds ---\" % (time.time() - start_time))"
   ]
  },
  {
   "cell_type": "code",
   "execution_count": null,
   "id": "45717772-a01c-4915-bf07-5f10c8f30080",
   "metadata": {},
   "outputs": [],
   "source": [
    "shap.summary_plot(shap_values, cluster_df, plot_type='bar')"
   ]
  },
  {
   "cell_type": "code",
   "execution_count": null,
   "id": "588fdb1e-d532-467e-8c34-3d098eb266bf",
   "metadata": {},
   "outputs": [
    {
     "name": "stdout",
     "output_type": "stream",
     "text": [
      "classifier done\n",
      "Explainer defined\n"
     ]
    }
   ],
   "source": [
    "cluster_df = pd.read_csv('/home/work/data/본선_data_final_after_labeling.csv')\n",
    "cluster_df = cluster_df.iloc[:, 2:-1]\n",
    "\n",
    "clf=RandomForestClassifier()\n",
    "clf.fit(cluster_df,labels)\n",
    "print(\"classifier done\")\n",
    "explainer= shap.TreeExplainer(clf)\n",
    "print(\"Explainer defined\")\n",
    "\n",
    "shap_values2 = explainer(cluster_df).values\n",
    "print(shap_values2)"
   ]
  },
  {
   "cell_type": "code",
   "execution_count": null,
   "id": "82a2b813-53e7-44a5-9454-9f8fedd24127",
   "metadata": {},
   "outputs": [],
   "source": [
    "shap.summary_plot(shap_values2, cluster_df, plot_type='bar')"
   ]
  },
  {
   "cell_type": "code",
   "execution_count": 23,
   "id": "b0cde611-9719-4579-a317-56a9102876e1",
   "metadata": {},
   "outputs": [],
   "source": [
    "cluster0 = []\n",
    "cluster1 = []\n",
    "cluster2 = []\n",
    "cluster3 = []\n",
    "\n",
    "center0 = []\n",
    "center1 = []\n",
    "center2 = []\n",
    "center3 = []\n",
    "\n",
    "for idx in range(len(df)):\n",
    "    if df.values[idx][-1] == 0:\n",
    "        cluster0.append(df.values[idx])\n",
    "        \n",
    "        if idx == medoids[0]:\n",
    "            center0.append(0)\n",
    "        else:\n",
    "            center0.append(np.nan)        \n",
    "        \n",
    "    if df.values[idx][-1] == 1:\n",
    "        cluster1.append(df.values[idx])\n",
    "        \n",
    "        if idx == medoids[1]:\n",
    "            center1.append(1)\n",
    "        else:\n",
    "            center1.append(np.nan)        \n",
    "        \n",
    "    if df.values[idx][-1] == 2:\n",
    "        cluster2.append(df.values[idx])\n",
    "        \n",
    "        if idx == medoids[2]:\n",
    "            center2.append(2)\n",
    "        else:\n",
    "            center2.append(np.nan)        \n",
    "        \n",
    "    if df.values[idx][-1] == 3:\n",
    "        cluster3.append(df.values[idx])\n",
    "\n",
    "        if idx == medoids[3]:\n",
    "            center3.append(3)\n",
    "        else:\n",
    "            center3.append(np.nan)\n",
    "\n",
    "\n",
    "df0 = pd.DataFrame(cluster0)\n",
    "df1 = pd.DataFrame(cluster1)\n",
    "df2 = pd.DataFrame(cluster2)\n",
    "df3 = pd.DataFrame(cluster3)\n",
    "\n",
    "\n",
    "df0.columns = df.columns\n",
    "df1.columns = df.columns\n",
    "df2.columns = df.columns\n",
    "df3.columns = df.columns\n",
    "\n",
    "\n",
    "df0['Center'] = center0\n",
    "df1['Center'] = center1\n",
    "df2['Center'] = center2\n",
    "df3['Center'] = center3"
   ]
  },
  {
   "cell_type": "code",
   "execution_count": 24,
   "id": "a9fa6cb0-903c-483c-a3a3-ddbd1870b752",
   "metadata": {},
   "outputs": [],
   "source": [
    "df0.to_csv('/home/work/data/FBA_Finals_cluster1.csv')\n",
    "df1.to_csv('/home/work/data/FBA_Finals_cluster2.csv')\n",
    "df2.to_csv('/home/work/data/FBA_Finals_cluster3.csv')\n",
    "df3.to_csv('/home/work/data/FBA_Finals_cluster4.csv')"
   ]
  },
  {
   "cell_type": "code",
   "execution_count": 26,
   "id": "a5e063a6-2e97-424b-aa37-ef55028e7a02",
   "metadata": {},
   "outputs": [
    {
     "name": "stderr",
     "output_type": "stream",
     "text": [
      "Summarize dataset:  99%|#########8| 467/474 [01:06<00:00,  9.31it/s, Missing diagram bar]                                         /opt/conda/lib/python3.7/site-packages/missingno/missingno.py:255: UserWarning: FixedFormatter should only be used together with FixedLocator\n",
      "  ax1.get_xticklabels(), rotation=label_rotation, ha='right', fontsize=fontsize\n",
      "/opt/conda/lib/python3.7/site-packages/pandas_profiling/model/missing.py:95: UserWarning: There was an attempt to generate the Count missing values diagrams, but this failed.\n",
      "To hide this warning, disable the calculation\n",
      "(using `df.profile_report(missing_diagrams={\"Count\": False}`)\n",
      "If this is problematic for your use case, please report this as an issue:\n",
      "https://github.com/ydataai/pandas-profiling/issues\n",
      "(include the error message: 'The number of FixedLocator locations (7), usually from a call to set_ticks, does not match the number of ticklabels (59).')\n",
      "  (include the error message: '{error}')\"\"\"\n",
      "Summarize dataset: 100%|##########| 474/474 [01:08<00:00,  6.87it/s, Completed]                 \n",
      "Generate report structure: 100%|##########| 1/1 [00:18<00:00, 18.11s/it]\n",
      "Render HTML: 100%|##########| 1/1 [00:12<00:00, 12.55s/it]\n",
      "Export report to file: 100%|##########| 1/1 [00:00<00:00, 12.71it/s]\n",
      "Summarize dataset:  99%|#########8| 467/474 [01:05<00:00,  9.31it/s, Missing diagram bar]                                         /opt/conda/lib/python3.7/site-packages/missingno/missingno.py:255: UserWarning: FixedFormatter should only be used together with FixedLocator\n",
      "  ax1.get_xticklabels(), rotation=label_rotation, ha='right', fontsize=fontsize\n",
      "/opt/conda/lib/python3.7/site-packages/pandas_profiling/model/missing.py:95: UserWarning: There was an attempt to generate the Count missing values diagrams, but this failed.\n",
      "To hide this warning, disable the calculation\n",
      "(using `df.profile_report(missing_diagrams={\"Count\": False}`)\n",
      "If this is problematic for your use case, please report this as an issue:\n",
      "https://github.com/ydataai/pandas-profiling/issues\n",
      "(include the error message: 'The number of FixedLocator locations (7), usually from a call to set_ticks, does not match the number of ticklabels (59).')\n",
      "  (include the error message: '{error}')\"\"\"\n",
      "Summarize dataset: 100%|##########| 474/474 [01:06<00:00,  7.12it/s, Completed]                 \n",
      "Generate report structure: 100%|##########| 1/1 [00:16<00:00, 16.73s/it]\n",
      "Render HTML: 100%|##########| 1/1 [00:12<00:00, 12.31s/it]\n",
      "Export report to file: 100%|##########| 1/1 [00:00<00:00, 12.64it/s]\n",
      "Summarize dataset:  99%|#########8| 467/474 [01:06<00:00,  9.48it/s, Missing diagram bar]                                         /opt/conda/lib/python3.7/site-packages/missingno/missingno.py:255: UserWarning: FixedFormatter should only be used together with FixedLocator\n",
      "  ax1.get_xticklabels(), rotation=label_rotation, ha='right', fontsize=fontsize\n",
      "/opt/conda/lib/python3.7/site-packages/pandas_profiling/model/missing.py:95: UserWarning: There was an attempt to generate the Count missing values diagrams, but this failed.\n",
      "To hide this warning, disable the calculation\n",
      "(using `df.profile_report(missing_diagrams={\"Count\": False}`)\n",
      "If this is problematic for your use case, please report this as an issue:\n",
      "https://github.com/ydataai/pandas-profiling/issues\n",
      "(include the error message: 'The number of FixedLocator locations (7), usually from a call to set_ticks, does not match the number of ticklabels (59).')\n",
      "  (include the error message: '{error}')\"\"\"\n",
      "Summarize dataset: 100%|##########| 474/474 [01:07<00:00,  7.03it/s, Completed]                 \n",
      "Generate report structure: 100%|##########| 1/1 [00:16<00:00, 16.78s/it]\n",
      "Render HTML: 100%|##########| 1/1 [00:12<00:00, 12.25s/it]\n",
      "Export report to file: 100%|##########| 1/1 [00:00<00:00, 12.57it/s]\n",
      "Summarize dataset:  99%|#########8| 467/474 [01:06<00:00,  8.65it/s, Missing diagram bar]                                         /opt/conda/lib/python3.7/site-packages/missingno/missingno.py:255: UserWarning: FixedFormatter should only be used together with FixedLocator\n",
      "  ax1.get_xticklabels(), rotation=label_rotation, ha='right', fontsize=fontsize\n",
      "/opt/conda/lib/python3.7/site-packages/pandas_profiling/model/missing.py:95: UserWarning: There was an attempt to generate the Count missing values diagrams, but this failed.\n",
      "To hide this warning, disable the calculation\n",
      "(using `df.profile_report(missing_diagrams={\"Count\": False}`)\n",
      "If this is problematic for your use case, please report this as an issue:\n",
      "https://github.com/ydataai/pandas-profiling/issues\n",
      "(include the error message: 'The number of FixedLocator locations (7), usually from a call to set_ticks, does not match the number of ticklabels (59).')\n",
      "  (include the error message: '{error}')\"\"\"\n",
      "Summarize dataset: 100%|##########| 474/474 [01:07<00:00,  7.04it/s, Completed]                 \n",
      "Generate report structure: 100%|##########| 1/1 [00:16<00:00, 16.99s/it]\n",
      "Render HTML: 100%|##########| 1/1 [00:16<00:00, 16.58s/it]\n",
      "Export report to file: 100%|##########| 1/1 [00:00<00:00, 13.64it/s]\n"
     ]
    },
    {
     "data": {
      "image/png": "[encoded data removed]",
      "text/plain": [
       "<Figure size 720x360 with 3 Axes>"
      ]
     },
     "metadata": {},
     "output_type": "display_data"
    }
   ],
   "source": [
    "df_c1 = pd.read_csv('/home/work/data/FBA_Finals_cluster1.csv', index_col = 0)\n",
    "df_c2 = pd.read_csv('/home/work/data/FBA_Finals_cluster2.csv', index_col = 0)\n",
    "df_c3 = pd.read_csv('/home/work/data/FBA_Finals_cluster3.csv', index_col = 0)\n",
    "df_c4 = pd.read_csv('/home/work/data/FBA_Finals_cluster4.csv', index_col = 0)\n",
    "profile_c1 = ProfileReport(df_c1, title=\"Report\")\n",
    "profile_c2 = ProfileReport(df_c2, title=\"Report\")\n",
    "profile_c3 = ProfileReport(df_c3, title=\"Report\")\n",
    "profile_c4 = ProfileReport(df_c4, title=\"Report\")\n",
    "profile_c1.to_file(\"/home/work/data/FBA_Finals_cluster1.html\")\n",
    "profile_c2.to_file(\"/home/work/data/FBA_Finals_cluster2.html\")\n",
    "profile_c3.to_file(\"/home/work/data/FBA_Finals_cluster3.html\")\n",
    "profile_c4.to_file(\"/home/work/data/FBA_Finals_cluster4.html\")"
   ]
  },
  {
   "cell_type": "code",
   "execution_count": null,
   "id": "44e08692-90c3-4a63-9cf8-3e474f8905ba",
   "metadata": {},
   "outputs": [],
   "source": []
  }
 ],
 "metadata": {
  "kernelspec": {
   "display_name": "Python 3.7 (XPython)",
   "language": "python",
   "name": "xpython"
  },
  "language_info": {
   "file_extension": ".py",
   "mimetype": "text/x-python",
   "name": "python",
   "version": "3.7.12"
  }
 },
 "nbformat": 4,
 "nbformat_minor": 5
}
